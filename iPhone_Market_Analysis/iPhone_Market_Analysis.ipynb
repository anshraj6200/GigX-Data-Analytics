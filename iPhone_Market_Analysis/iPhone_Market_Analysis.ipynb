{
 "cells": [
  {
   "cell_type": "code",
   "execution_count": 1,
   "id": "a37fbcff-cd5c-4833-b244-1c4e13ae9fb9",
   "metadata": {},
   "outputs": [
    {
     "data": {
      "text/html": [
       "<div>\n",
       "<style scoped>\n",
       "    .dataframe tbody tr th:only-of-type {\n",
       "        vertical-align: middle;\n",
       "    }\n",
       "\n",
       "    .dataframe tbody tr th {\n",
       "        vertical-align: top;\n",
       "    }\n",
       "\n",
       "    .dataframe thead th {\n",
       "        text-align: right;\n",
       "    }\n",
       "</style>\n",
       "<table border=\"1\" class=\"dataframe\">\n",
       "  <thead>\n",
       "    <tr style=\"text-align: right;\">\n",
       "      <th></th>\n",
       "      <th>Product Name</th>\n",
       "      <th>Product URL</th>\n",
       "      <th>Brand</th>\n",
       "      <th>Sale Price</th>\n",
       "      <th>Mrp</th>\n",
       "      <th>Discount Percentage</th>\n",
       "      <th>Number Of Ratings</th>\n",
       "      <th>Number Of Reviews</th>\n",
       "      <th>Upc</th>\n",
       "      <th>Star Rating</th>\n",
       "      <th>Ram</th>\n",
       "    </tr>\n",
       "  </thead>\n",
       "  <tbody>\n",
       "    <tr>\n",
       "      <th>0</th>\n",
       "      <td>APPLE iPhone 8 Plus (Gold, 64 GB)</td>\n",
       "      <td>https://www.flipkart.com/apple-iphone-8-plus-g...</td>\n",
       "      <td>Apple</td>\n",
       "      <td>49900</td>\n",
       "      <td>49900</td>\n",
       "      <td>0</td>\n",
       "      <td>3431</td>\n",
       "      <td>356</td>\n",
       "      <td>MOBEXRGV7EHHTGUH</td>\n",
       "      <td>4.6</td>\n",
       "      <td>2 GB</td>\n",
       "    </tr>\n",
       "    <tr>\n",
       "      <th>1</th>\n",
       "      <td>APPLE iPhone 8 Plus (Space Grey, 256 GB)</td>\n",
       "      <td>https://www.flipkart.com/apple-iphone-8-plus-s...</td>\n",
       "      <td>Apple</td>\n",
       "      <td>84900</td>\n",
       "      <td>84900</td>\n",
       "      <td>0</td>\n",
       "      <td>3431</td>\n",
       "      <td>356</td>\n",
       "      <td>MOBEXRGVAC6TJT4F</td>\n",
       "      <td>4.6</td>\n",
       "      <td>2 GB</td>\n",
       "    </tr>\n",
       "    <tr>\n",
       "      <th>2</th>\n",
       "      <td>APPLE iPhone 8 Plus (Silver, 256 GB)</td>\n",
       "      <td>https://www.flipkart.com/apple-iphone-8-plus-s...</td>\n",
       "      <td>Apple</td>\n",
       "      <td>84900</td>\n",
       "      <td>84900</td>\n",
       "      <td>0</td>\n",
       "      <td>3431</td>\n",
       "      <td>356</td>\n",
       "      <td>MOBEXRGVGETABXWZ</td>\n",
       "      <td>4.6</td>\n",
       "      <td>2 GB</td>\n",
       "    </tr>\n",
       "    <tr>\n",
       "      <th>3</th>\n",
       "      <td>APPLE iPhone 8 (Silver, 256 GB)</td>\n",
       "      <td>https://www.flipkart.com/apple-iphone-8-silver...</td>\n",
       "      <td>Apple</td>\n",
       "      <td>77000</td>\n",
       "      <td>77000</td>\n",
       "      <td>0</td>\n",
       "      <td>11202</td>\n",
       "      <td>794</td>\n",
       "      <td>MOBEXRGVMZWUHCBA</td>\n",
       "      <td>4.5</td>\n",
       "      <td>2 GB</td>\n",
       "    </tr>\n",
       "    <tr>\n",
       "      <th>4</th>\n",
       "      <td>APPLE iPhone 8 (Gold, 256 GB)</td>\n",
       "      <td>https://www.flipkart.com/apple-iphone-8-gold-2...</td>\n",
       "      <td>Apple</td>\n",
       "      <td>77000</td>\n",
       "      <td>77000</td>\n",
       "      <td>0</td>\n",
       "      <td>11202</td>\n",
       "      <td>794</td>\n",
       "      <td>MOBEXRGVPK7PFEJZ</td>\n",
       "      <td>4.5</td>\n",
       "      <td>2 GB</td>\n",
       "    </tr>\n",
       "  </tbody>\n",
       "</table>\n",
       "</div>"
      ],
      "text/plain": [
       "                               Product Name  \\\n",
       "0         APPLE iPhone 8 Plus (Gold, 64 GB)   \n",
       "1  APPLE iPhone 8 Plus (Space Grey, 256 GB)   \n",
       "2      APPLE iPhone 8 Plus (Silver, 256 GB)   \n",
       "3           APPLE iPhone 8 (Silver, 256 GB)   \n",
       "4             APPLE iPhone 8 (Gold, 256 GB)   \n",
       "\n",
       "                                         Product URL  Brand  Sale Price  \\\n",
       "0  https://www.flipkart.com/apple-iphone-8-plus-g...  Apple       49900   \n",
       "1  https://www.flipkart.com/apple-iphone-8-plus-s...  Apple       84900   \n",
       "2  https://www.flipkart.com/apple-iphone-8-plus-s...  Apple       84900   \n",
       "3  https://www.flipkart.com/apple-iphone-8-silver...  Apple       77000   \n",
       "4  https://www.flipkart.com/apple-iphone-8-gold-2...  Apple       77000   \n",
       "\n",
       "     Mrp  Discount Percentage  Number Of Ratings  Number Of Reviews  \\\n",
       "0  49900                    0               3431                356   \n",
       "1  84900                    0               3431                356   \n",
       "2  84900                    0               3431                356   \n",
       "3  77000                    0              11202                794   \n",
       "4  77000                    0              11202                794   \n",
       "\n",
       "                Upc  Star Rating   Ram  \n",
       "0  MOBEXRGV7EHHTGUH          4.6  2 GB  \n",
       "1  MOBEXRGVAC6TJT4F          4.6  2 GB  \n",
       "2  MOBEXRGVGETABXWZ          4.6  2 GB  \n",
       "3  MOBEXRGVMZWUHCBA          4.5  2 GB  \n",
       "4  MOBEXRGVPK7PFEJZ          4.5  2 GB  "
      ]
     },
     "metadata": {},
     "output_type": "display_data"
    }
   ],
   "source": [
    "# Import libraries\n",
    "import pandas as pd\n",
    "import matplotlib.pyplot as plt\n",
    "import re\n",
    "\n",
    "# Load dataset\n",
    "df = pd.read_csv('apple_products.csv')\n",
    "display(df.head())"
   ]
  },
  {
   "cell_type": "code",
   "execution_count": 2,
   "id": "6f3ae8d9-014c-42a5-8f23-5e68b9a7de75",
   "metadata": {},
   "outputs": [
    {
     "name": "stdout",
     "output_type": "stream",
     "text": [
      "Shape of the DataFrame: (62, 11)\n",
      "\n",
      "Data Types of each column:\n",
      " Product Name            object\n",
      "Product URL             object\n",
      "Brand                   object\n",
      "Sale Price               int64\n",
      "Mrp                      int64\n",
      "Discount Percentage      int64\n",
      "Number Of Ratings        int64\n",
      "Number Of Reviews        int64\n",
      "Upc                     object\n",
      "Star Rating            float64\n",
      "Ram                     object\n",
      "dtype: object\n",
      "\n",
      "Summary statistics:\n",
      "           Sale Price            Mrp  Discount Percentage  Number Of Ratings  \\\n",
      "count      62.000000      62.000000            62.000000          62.000000   \n",
      "mean    80073.887097   88058.064516             9.951613       22420.403226   \n",
      "std     34310.446132   34728.825597             7.608079       33768.589550   \n",
      "min     29999.000000   39900.000000             0.000000         542.000000   \n",
      "25%     49900.000000   54900.000000             6.000000         740.000000   \n",
      "50%     75900.000000   79900.000000            10.000000        2101.000000   \n",
      "75%    117100.000000  120950.000000            14.000000       43470.000000   \n",
      "max    140900.000000  149900.000000            29.000000       95909.000000   \n",
      "\n",
      "       Number Of Reviews  Star Rating  \n",
      "count          62.000000    62.000000  \n",
      "mean         1861.677419     4.575806  \n",
      "std          2855.883830     0.059190  \n",
      "min            42.000000     4.500000  \n",
      "25%            64.000000     4.500000  \n",
      "50%           180.000000     4.600000  \n",
      "75%          3331.000000     4.600000  \n",
      "max          8161.000000     4.700000  \n",
      "\n",
      "DataFrame info:\n",
      "\n",
      "<class 'pandas.core.frame.DataFrame'>\n",
      "RangeIndex: 62 entries, 0 to 61\n",
      "Data columns (total 11 columns):\n",
      " #   Column               Non-Null Count  Dtype  \n",
      "---  ------               --------------  -----  \n",
      " 0   Product Name         62 non-null     object \n",
      " 1   Product URL          62 non-null     object \n",
      " 2   Brand                62 non-null     object \n",
      " 3   Sale Price           62 non-null     int64  \n",
      " 4   Mrp                  62 non-null     int64  \n",
      " 5   Discount Percentage  62 non-null     int64  \n",
      " 6   Number Of Ratings    62 non-null     int64  \n",
      " 7   Number Of Reviews    62 non-null     int64  \n",
      " 8   Upc                  62 non-null     object \n",
      " 9   Star Rating          62 non-null     float64\n",
      " 10  Ram                  62 non-null     object \n",
      "dtypes: float64(1), int64(5), object(5)\n",
      "memory usage: 5.5+ KB\n"
     ]
    }
   ],
   "source": [
    "# Basic exploration\n",
    "print(\"Shape of the DataFrame:\", df.shape)\n",
    "print(\"\\nData Types of each column:\\n\", df.dtypes)\n",
    "print(\"\\nSummary statistics:\\n\", df.describe())\n",
    "print(\"\\nDataFrame info:\\n\")\n",
    "df.info()"
   ]
  },
  {
   "cell_type": "code",
   "execution_count": 20,
   "id": "1fba191b-0077-45e7-b5b0-ad6072bde97d",
   "metadata": {},
   "outputs": [
    {
     "name": "stdout",
     "output_type": "stream",
     "text": [
      "\n",
      "Unique Product Names: 62\n",
      "Unique Brands: 1\n",
      "Unique Star Ratings: [4.6 4.5 4.7]\n"
     ]
    }
   ],
   "source": [
    "# Unique values in key columns\n",
    "print(\"\\nUnique Product Names:\", df['Product Name'].nunique())\n",
    "print(\"Unique Brands:\", df['Brand'].nunique())\n",
    "print(\"Unique Star Ratings:\", df['Star Rating'].unique())"
   ]
  },
  {
   "cell_type": "code",
   "execution_count": 24,
   "id": "cbfe5da3-7ad3-4df1-86c0-675fbc1e0d9a",
   "metadata": {},
   "outputs": [
    {
     "name": "stdout",
     "output_type": "stream",
     "text": [
      "\n",
      "Distribution of Star Ratings:\n",
      " Star Rating\n",
      "4.6    37\n",
      "4.5    20\n",
      "4.7     5\n",
      "Name: count, dtype: int64\n"
     ]
    }
   ],
   "source": [
    "# Star Rating Distribution\n",
    "print(\"\\nDistribution of Star Ratings:\\n\", df['Star Rating'].value_counts())"
   ]
  },
  {
   "cell_type": "markdown",
   "id": "4215c382-b5c6-41b2-b3e5-3ff695b7ea7f",
   "metadata": {},
   "source": [
    "## Data Cleaning & Feature Extraction"
   ]
  },
  {
   "cell_type": "code",
   "execution_count": 28,
   "id": "ab8bdfb2-3f06-494d-8c14-e074f5aae0f6",
   "metadata": {},
   "outputs": [],
   "source": [
    "# Clean 'Sale Price'\n",
    "df['Sale Price'] = df['Sale Price'].astype(str).str.replace(r'[^\\d.]', '', regex=True)\n",
    "df['Sale Price'] = pd.to_numeric(df['Sale Price'], errors='coerce')"
   ]
  },
  {
   "cell_type": "code",
   "execution_count": 31,
   "id": "f661cda5-e8b0-4d7d-965a-468f7f3fbe10",
   "metadata": {},
   "outputs": [],
   "source": [
    "# Extract 'iPhone Model' from 'Product Name'\n",
    "df['iPhone Model'] = df['Product Name'].str.extract(r'iPhone (\\S+)', expand=False)"
   ]
  },
  {
   "cell_type": "code",
   "execution_count": 34,
   "id": "4ea3c125-7df8-40b2-ae9c-87fe0ec9e8d8",
   "metadata": {},
   "outputs": [],
   "source": [
    "# Convert data types\n",
    "for col in ['Number Of Ratings', 'Number Of Reviews', 'Discount Percentage']:\n",
    "    df[col] = pd.to_numeric(df[col], errors='coerce')"
   ]
  },
  {
   "cell_type": "code",
   "execution_count": 39,
   "id": "edc9c6c9-3443-4193-b510-959e18c0c5b4",
   "metadata": {},
   "outputs": [
    {
     "name": "stdout",
     "output_type": "stream",
     "text": [
      "\n",
      "Missing values:\n",
      " iPhone Model           0\n",
      "Number Of Ratings      0\n",
      "Number Of Reviews      0\n",
      "Discount Percentage    0\n",
      "dtype: int64\n"
     ]
    }
   ],
   "source": [
    "# Check missing values\n",
    "print(\"\\nMissing values:\\n\", df[['iPhone Model', 'Number Of Ratings', 'Number Of Reviews', 'Discount Percentage']].isnull().sum())"
   ]
  },
  {
   "cell_type": "markdown",
   "id": "3d82398a-6976-46e9-87d2-4203099b4c26",
   "metadata": {},
   "source": [
    "## 1. Top 10 Highest-Rated iPhones on Flipkart"
   ]
  },
  {
   "cell_type": "code",
   "execution_count": 42,
   "id": "797ef608-9a5e-4d38-ab80-6cde3614fb6f",
   "metadata": {},
   "outputs": [
    {
     "data": {
      "text/html": [
       "<div>\n",
       "<style scoped>\n",
       "    .dataframe tbody tr th:only-of-type {\n",
       "        vertical-align: middle;\n",
       "    }\n",
       "\n",
       "    .dataframe tbody tr th {\n",
       "        vertical-align: top;\n",
       "    }\n",
       "\n",
       "    .dataframe thead th {\n",
       "        text-align: right;\n",
       "    }\n",
       "</style>\n",
       "<table border=\"1\" class=\"dataframe\">\n",
       "  <thead>\n",
       "    <tr style=\"text-align: right;\">\n",
       "      <th></th>\n",
       "      <th>iPhone Model</th>\n",
       "      <th>Star Rating</th>\n",
       "    </tr>\n",
       "  </thead>\n",
       "  <tbody>\n",
       "    <tr>\n",
       "      <th>20</th>\n",
       "      <td>11</td>\n",
       "      <td>4.7</td>\n",
       "    </tr>\n",
       "    <tr>\n",
       "      <th>17</th>\n",
       "      <td>11</td>\n",
       "      <td>4.7</td>\n",
       "    </tr>\n",
       "    <tr>\n",
       "      <th>16</th>\n",
       "      <td>11</td>\n",
       "      <td>4.7</td>\n",
       "    </tr>\n",
       "    <tr>\n",
       "      <th>15</th>\n",
       "      <td>11</td>\n",
       "      <td>4.7</td>\n",
       "    </tr>\n",
       "    <tr>\n",
       "      <th>14</th>\n",
       "      <td>11</td>\n",
       "      <td>4.7</td>\n",
       "    </tr>\n",
       "    <tr>\n",
       "      <th>0</th>\n",
       "      <td>8</td>\n",
       "      <td>4.6</td>\n",
       "    </tr>\n",
       "    <tr>\n",
       "      <th>29</th>\n",
       "      <td>12</td>\n",
       "      <td>4.6</td>\n",
       "    </tr>\n",
       "    <tr>\n",
       "      <th>32</th>\n",
       "      <td>12</td>\n",
       "      <td>4.6</td>\n",
       "    </tr>\n",
       "    <tr>\n",
       "      <th>35</th>\n",
       "      <td>12</td>\n",
       "      <td>4.6</td>\n",
       "    </tr>\n",
       "    <tr>\n",
       "      <th>36</th>\n",
       "      <td>12</td>\n",
       "      <td>4.6</td>\n",
       "    </tr>\n",
       "  </tbody>\n",
       "</table>\n",
       "</div>"
      ],
      "text/plain": [
       "   iPhone Model  Star Rating\n",
       "20           11          4.7\n",
       "17           11          4.7\n",
       "16           11          4.7\n",
       "15           11          4.7\n",
       "14           11          4.7\n",
       "0             8          4.6\n",
       "29           12          4.6\n",
       "32           12          4.6\n",
       "35           12          4.6\n",
       "36           12          4.6"
      ]
     },
     "metadata": {},
     "output_type": "display_data"
    },
    {
     "data": {
      "image/png": "[encoded data removed]",
      "text/plain": [
       "<Figure size 1200x600 with 1 Axes>"
      ]
     },
     "metadata": {},
     "output_type": "display_data"
    }
   ],
   "source": [
    "top_10_highest_rated = df.sort_values(by='Star Rating', ascending=False).dropna(subset=['iPhone Model']).head(10)\n",
    "display(top_10_highest_rated[['iPhone Model', 'Star Rating']])\n",
    "\n",
    "# Visualization\n",
    "plt.figure(figsize=(12, 6))\n",
    "plt.bar(top_10_highest_rated['iPhone Model'], top_10_highest_rated['Star Rating'], color='skyblue')\n",
    "plt.xlabel('iPhone Model')\n",
    "plt.ylabel('Star Rating')\n",
    "plt.title('Top 10 Highest-Rated iPhones on Flipkart')\n",
    "plt.xticks(rotation=45, ha='right')\n",
    "plt.tight_layout()\n",
    "plt.show()"
   ]
  },
  {
   "cell_type": "markdown",
   "id": "7aba6b60-735b-4077-8273-3a6e12fd4b82",
   "metadata": {},
   "source": [
    "## 2. Number of Ratings for the Highest-Rated iPhones"
   ]
  },
  {
   "cell_type": "code",
   "execution_count": 44,
   "id": "ff680dd1-45cc-4d4a-bd11-3daed8c07467",
   "metadata": {},
   "outputs": [
    {
     "data": {
      "text/html": [
       "<div>\n",
       "<style scoped>\n",
       "    .dataframe tbody tr th:only-of-type {\n",
       "        vertical-align: middle;\n",
       "    }\n",
       "\n",
       "    .dataframe tbody tr th {\n",
       "        vertical-align: top;\n",
       "    }\n",
       "\n",
       "    .dataframe thead th {\n",
       "        text-align: right;\n",
       "    }\n",
       "</style>\n",
       "<table border=\"1\" class=\"dataframe\">\n",
       "  <thead>\n",
       "    <tr style=\"text-align: right;\">\n",
       "      <th></th>\n",
       "      <th>iPhone Model</th>\n",
       "      <th>Number Of Ratings</th>\n",
       "    </tr>\n",
       "  </thead>\n",
       "  <tbody>\n",
       "    <tr>\n",
       "      <th>20</th>\n",
       "      <td>11</td>\n",
       "      <td>1078</td>\n",
       "    </tr>\n",
       "    <tr>\n",
       "      <th>17</th>\n",
       "      <td>11</td>\n",
       "      <td>1078</td>\n",
       "    </tr>\n",
       "    <tr>\n",
       "      <th>16</th>\n",
       "      <td>11</td>\n",
       "      <td>1078</td>\n",
       "    </tr>\n",
       "    <tr>\n",
       "      <th>15</th>\n",
       "      <td>11</td>\n",
       "      <td>1078</td>\n",
       "    </tr>\n",
       "    <tr>\n",
       "      <th>14</th>\n",
       "      <td>11</td>\n",
       "      <td>1078</td>\n",
       "    </tr>\n",
       "    <tr>\n",
       "      <th>0</th>\n",
       "      <td>8</td>\n",
       "      <td>3431</td>\n",
       "    </tr>\n",
       "    <tr>\n",
       "      <th>29</th>\n",
       "      <td>12</td>\n",
       "      <td>2101</td>\n",
       "    </tr>\n",
       "    <tr>\n",
       "      <th>32</th>\n",
       "      <td>12</td>\n",
       "      <td>580</td>\n",
       "    </tr>\n",
       "    <tr>\n",
       "      <th>35</th>\n",
       "      <td>12</td>\n",
       "      <td>2101</td>\n",
       "    </tr>\n",
       "    <tr>\n",
       "      <th>36</th>\n",
       "      <td>12</td>\n",
       "      <td>2101</td>\n",
       "    </tr>\n",
       "  </tbody>\n",
       "</table>\n",
       "</div>"
      ],
      "text/plain": [
       "   iPhone Model  Number Of Ratings\n",
       "20           11               1078\n",
       "17           11               1078\n",
       "16           11               1078\n",
       "15           11               1078\n",
       "14           11               1078\n",
       "0             8               3431\n",
       "29           12               2101\n",
       "32           12                580\n",
       "35           12               2101\n",
       "36           12               2101"
      ]
     },
     "metadata": {},
     "output_type": "display_data"
    }
   ],
   "source": [
    "# Reusing top_10_highest_rated from above\n",
    "display(top_10_highest_rated[['iPhone Model', 'Number Of Ratings']])"
   ]
  },
  {
   "cell_type": "markdown",
   "id": "1e563c2c-ea3a-4ab9-9406-c570e4b0949a",
   "metadata": {},
   "source": [
    "## 3. iPhone with the Highest Number of Reviews"
   ]
  },
  {
   "cell_type": "code",
   "execution_count": 48,
   "id": "ee332927-f9e4-4499-a0d4-876c97dd81a7",
   "metadata": {},
   "outputs": [
    {
     "name": "stdout",
     "output_type": "stream",
     "text": [
      "The iPhone model with the highest number of reviews is: SE\n"
     ]
    },
    {
     "data": {
      "text/plain": [
       "Product Name           Apple iPhone SE (White, 256 GB) (Includes EarP...\n",
       "Product URL            https://www.flipkart.com/apple-iphone-se-white...\n",
       "Brand                                                              Apple\n",
       "Sale Price                                                         44999\n",
       "Mrp                                                                54900\n",
       "Discount Percentage                                                   18\n",
       "Number Of Ratings                                                  95909\n",
       "Number Of Reviews                                                   8161\n",
       "Upc                                                     MOBFRFXHPZCHAPEH\n",
       "Star Rating                                                          4.5\n",
       "Ram                                                                 2 GB\n",
       "iPhone Model                                                          SE\n",
       "Name: 23, dtype: object"
      ]
     },
     "metadata": {},
     "output_type": "display_data"
    }
   ],
   "source": [
    "iphone_highest_reviews = df.loc[df['Number Of Reviews'].idxmax()]\n",
    "print(f\"The iPhone model with the highest number of reviews is: {iphone_highest_reviews['iPhone Model']}\")\n",
    "display(iphone_highest_reviews)"
   ]
  },
  {
   "cell_type": "markdown",
   "id": "5d6bb9f2-c3a6-4a30-abcc-13564cf3e8c1",
   "metadata": {},
   "source": [
    "## 4. Relationship Between Sale Price and Number of Ratings"
   ]
  },
  {
   "cell_type": "code",
   "execution_count": 51,
   "id": "27bfd580-da99-4014-9533-4d09152e023a",
   "metadata": {},
   "outputs": [
    {
     "name": "stdout",
     "output_type": "stream",
     "text": [
      "Correlation between Sale Price and Number of Ratings: -0.7015\n"
     ]
    },
    {
     "data": {
      "image/png": "[encoded data removed]",
      "text/plain": [
       "<Figure size 1000x600 with 1 Axes>"
      ]
     },
     "metadata": {},
     "output_type": "display_data"
    }
   ],
   "source": [
    "# Correlation\n",
    "correlation_price_ratings = df['Sale Price'].corr(df['Number Of Ratings'])\n",
    "print(f\"Correlation between Sale Price and Number of Ratings: {correlation_price_ratings:.4f}\")\n",
    "\n",
    "# Scatter Plot\n",
    "plt.figure(figsize=(10, 6))\n",
    "plt.scatter(df['Sale Price'], df['Number Of Ratings'], color='coral')\n",
    "plt.xlabel('Sale Price')\n",
    "plt.ylabel('Number Of Ratings')\n",
    "plt.title('Sale Price vs Number of Ratings')\n",
    "plt.tight_layout()\n",
    "plt.show()"
   ]
  },
  {
   "cell_type": "markdown",
   "id": "4cb9f877-37c2-4658-9fcb-b881f5a78a9f",
   "metadata": {},
   "source": [
    "## 5. Relationship Between Discount Percentage and Number of Ratings"
   ]
  },
  {
   "cell_type": "code",
   "execution_count": 56,
   "id": "a34cfca4-fc2d-42c7-b04f-147cc7c927dc",
   "metadata": {},
   "outputs": [
    {
     "name": "stdout",
     "output_type": "stream",
     "text": [
      "Correlation between Discount Percentage and Number of Ratings: 0.6848\n"
     ]
    },
    {
     "data": {
      "image/png": "[encoded data removed]",
      "text/plain": [
       "<Figure size 1000x600 with 1 Axes>"
      ]
     },
     "metadata": {},
     "output_type": "display_data"
    }
   ],
   "source": [
    "# Correlation\n",
    "correlation_discount_ratings = df['Discount Percentage'].corr(df['Number Of Ratings'])\n",
    "print(f\"Correlation between Discount Percentage and Number of Ratings: {correlation_discount_ratings:.4f}\")\n",
    "\n",
    "# Scatter Plot\n",
    "plt.figure(figsize=(10, 6))\n",
    "plt.scatter(df['Discount Percentage'], df['Number Of Ratings'], color='green')\n",
    "plt.xlabel('Discount Percentage')\n",
    "plt.ylabel('Number Of Ratings')\n",
    "plt.title('Discount Percentage vs Number of Ratings')\n",
    "plt.tight_layout()\n",
    "plt.show()"
   ]
  },
  {
   "cell_type": "markdown",
   "id": "a7e66ab4-3d0e-4fad-9387-d8da22201276",
   "metadata": {},
   "source": [
    "## 6. Least Expensive and Most Expensive iPhones with All Specifications"
   ]
  },
  {
   "cell_type": "code",
   "execution_count": 59,
   "id": "178e36c7-9b6c-4dbd-9355-4d1ff52c1496",
   "metadata": {},
   "outputs": [
    {
     "name": "stdout",
     "output_type": "stream",
     "text": [
      "Least Expensive iPhone Details:\n"
     ]
    },
    {
     "data": {
      "text/plain": [
       "Product Name                              APPLE iPhone SE (White, 64 GB)\n",
       "Product URL            https://www.flipkart.com/apple-iphone-se-white...\n",
       "Brand                                                              Apple\n",
       "Sale Price                                                         29999\n",
       "Mrp                                                                39900\n",
       "Discount Percentage                                                   24\n",
       "Number Of Ratings                                                  95807\n",
       "Number Of Reviews                                                   8154\n",
       "Upc                                                     MOBFWQ6BGWDVGF3E\n",
       "Star Rating                                                          4.5\n",
       "Ram                                                                 2 GB\n",
       "iPhone Model                                                          SE\n",
       "Name: 52, dtype: object"
      ]
     },
     "metadata": {},
     "output_type": "display_data"
    },
    {
     "name": "stdout",
     "output_type": "stream",
     "text": [
      "Most Expensive iPhone Details:\n"
     ]
    },
    {
     "data": {
      "text/plain": [
       "Product Name                        APPLE iPhone 12 Pro (Silver, 512 GB)\n",
       "Product URL            https://www.flipkart.com/apple-iphone-12-pro-s...\n",
       "Brand                                                              Apple\n",
       "Sale Price                                                        140900\n",
       "Mrp                                                               149900\n",
       "Discount Percentage                                                    6\n",
       "Number Of Ratings                                                    542\n",
       "Number Of Reviews                                                     42\n",
       "Upc                                                     MOBFWBYZ5UY6ZBVA\n",
       "Star Rating                                                          4.5\n",
       "Ram                                                                 4 GB\n",
       "iPhone Model                                                          12\n",
       "Name: 24, dtype: object"
      ]
     },
     "metadata": {},
     "output_type": "display_data"
    }
   ],
   "source": [
    "# Least Expensive iPhone\n",
    "least_expensive = df.loc[df['Sale Price'].idxmin()]\n",
    "print(\"Least Expensive iPhone Details:\")\n",
    "display(least_expensive)\n",
    "\n",
    "# Most Expensive iPhone\n",
    "most_expensive = df.loc[df['Sale Price'].idxmax()]\n",
    "print(\"Most Expensive iPhone Details:\")\n",
    "display(most_expensive)"
   ]
  },
  {
   "cell_type": "code",
   "execution_count": null,
   "id": "14dc356e-5a83-4f5f-b932-3ec0d684d4b1",
   "metadata": {},
   "outputs": [],
   "source": []
  }
 ],
 "metadata": {
  "kernelspec": {
   "display_name": "Python 3 (ipykernel)",
   "language": "python",
   "name": "python3"
  },
  "language_info": {
   "codemirror_mode": {
    "name": "ipython",
    "version": 3
   },
   "file_extension": ".py",
   "mimetype": "text/x-python",
   "name": "python",
   "nbconvert_exporter": "python",
   "pygments_lexer": "ipython3",
   "version": "3.12.3"
  }
 },
 "nbformat": 4,
 "nbformat_minor": 5
}
